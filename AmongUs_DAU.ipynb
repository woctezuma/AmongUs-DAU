{
  "nbformat": 4,
  "nbformat_minor": 0,
  "metadata": {
    "colab": {
      "name": "AmongUs-DAU.ipynb",
      "provenance": [],
      "collapsed_sections": []
    },
    "kernelspec": {
      "name": "python3",
      "display_name": "Python 3"
    },
    "language_info": {
      "name": "python"
    }
  },
  "cells": [
    {
      "cell_type": "markdown",
      "metadata": {
        "id": "CC8ewbyjIAML"
      },
      "source": [
        "# Among Us  👀\n",
        "\n",
        "The objective of this notebook is to compute the DAU of Among Us from the CCU.\n",
        "\n",
        "## Glossary\n",
        "\n",
        "-   \"Among Us\" is a popular online multiplayer game. cf. [Wikipedia](https://en.wikipedia.org/wiki/Among_Us).\n",
        "-   CCU refers to Concurrently Connected Users\n",
        "-   DAU refers to the number of Daily Active User\n",
        "\n",
        "## 1) Manually download data from SteamDB\n",
        "\n",
        "Download a CSV file with player data from [SteamDB](https://steamdb.info/app/945360/graphs/).\n",
        "With the `week` zoom, this contains 2 weeks of CCU data sampled every 10 minutes.\n",
        "\n",
        "![Download](https://github.com/woctezuma/AmongUs-DAU/wiki/img/cover-banner.png)\n",
        "\n",
        "## 2) Upload data to Google Colab\n",
        "\n",
        "Upload `chart.csv` to your session of Google Colab.\n",
        "\n",
        "![Upload](https://github.com/woctezuma/AmongUs-DAU/wiki/img/colab.png)"
      ]
    },
    {
      "cell_type": "code",
      "metadata": {
        "colab": {
          "base_uri": "https://localhost:8080/"
        },
        "id": "D6XD4MqQZ_Nz",
        "outputId": "56b7e010-e2b4-4fa4-9f76-99a43f3da263"
      },
      "source": [
        "# Alternatively:\n",
        "!wget https://raw.githubusercontent.com/woctezuma/AmongUs-DAU/main/data/chart.csv"
      ],
      "execution_count": 1,
      "outputs": [
        {
          "output_type": "stream",
          "text": [
            "--2021-05-31 22:00:22--  https://raw.githubusercontent.com/woctezuma/AmongUs-DAU/main/data/chart.csv\n",
            "Resolving raw.githubusercontent.com (raw.githubusercontent.com)... 185.199.108.133, 185.199.110.133, 185.199.111.133, ...\n",
            "Connecting to raw.githubusercontent.com (raw.githubusercontent.com)|185.199.108.133|:443... connected.\n",
            "HTTP request sent, awaiting response... 200 OK\n",
            "Length: 55518 (54K) [text/plain]\n",
            "Saving to: ‘chart.csv’\n",
            "\n",
            "chart.csv           100%[===================>]  54.22K  --.-KB/s    in 0.007s  \n",
            "\n",
            "2021-05-31 22:00:22 (7.75 MB/s) - ‘chart.csv’ saved [55518/55518]\n",
            "\n"
          ],
          "name": "stdout"
        }
      ]
    },
    {
      "cell_type": "markdown",
      "metadata": {
        "id": "2X_dFeM2aCz7"
      },
      "source": [
        "## 3) Estimate the DAU\n",
        "\n",
        "Assume the average playtime of a session, then estimate the DAU."
      ]
    },
    {
      "cell_type": "code",
      "metadata": {
        "id": "BcBWQBqSJdpA",
        "colab": {
          "base_uri": "https://localhost:8080/"
        },
        "outputId": "cc8f69b6-ce86-476b-ae35-658d8db63d53"
      },
      "source": [
        "import pandas as pd\n",
        "\n",
        "data = pd.read_csv('chart.csv', sep=';')\n",
        "ccu = data['Players']\n",
        "\n",
        "dt = 10 # time-step (in minutes)\n",
        "integral = ccu.sum() * dt # total playtime over 2 weeks\n",
        "\n",
        "average_session_duration = 60 # assumption (in minutes)\n",
        "two_week_user_total = integral / average_session_duration\n",
        "daily_user_average = two_week_user_total / (2*7)\n",
        "\n",
        "print(f'If one plays on average {average_session_duration} min per session,')\n",
        "print(f'then an estimate of the DAU is {daily_user_average/1000:.0f}k.')"
      ],
      "execution_count": 2,
      "outputs": [
        {
          "output_type": "stream",
          "text": [
            "If one plays on average 60 min per session,\n",
            "then an estimate of the DAU is 261k.\n"
          ],
          "name": "stdout"
        }
      ]
    },
    {
      "cell_type": "markdown",
      "metadata": {
        "id": "rSIWR-snVBI7"
      },
      "source": [
        "## 4) Compare to public data\n",
        "\n",
        "In these public tweets [1](https://twitter.com/TheVTran/status/1399440751797293056) and [2](https://twitter.com/TheVTran/status/1399440753193996296), the \"normal\" DAU for \"Among Us\" is slightly lower than 300k.\n",
        "\n",
        "![Public data](https://github.com/woctezuma/AmongUs-DAU/wiki/img/twitter.png)"
      ]
    }
  ]
}